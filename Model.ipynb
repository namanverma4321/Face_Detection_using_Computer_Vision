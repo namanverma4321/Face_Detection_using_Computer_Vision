{
  "nbformat": 4,
  "nbformat_minor": 0,
  "metadata": {
    "colab": {
      "provenance": [],
      "collapsed_sections": [
        "GJikBoAASbdi",
        "j6wcRELPTgNr",
        "41Y6hnDKeWrY",
        "c-d0BtjEUd2f",
        "sPxydcaEUfTP"
      ],
      "include_colab_link": true
    },
    "kernelspec": {
      "name": "python3",
      "display_name": "Python 3"
    },
    "language_info": {
      "name": "python"
    }
  },
  "cells": [
    {
      "cell_type": "markdown",
      "metadata": {
        "id": "view-in-github",
        "colab_type": "text"
      },
      "source": [
        "<a href=\"https://colab.research.google.com/github/namanverma4321/Face_Detection_using_Computer_Vision/blob/main/Model.ipynb\" target=\"_parent\"><img src=\"https://colab.research.google.com/assets/colab-badge.svg\" alt=\"Open In Colab\"/></a>"
      ]
    },
    {
      "cell_type": "code",
      "metadata": {
        "colab": {
          "base_uri": "https://localhost:8080/"
        },
        "id": "iS8o4Z_Ri0sJ",
        "outputId": "ce6dbbc4-fdc6-409b-86e9-1e117b3563a5"
      },
      "source": [
        "from google.colab import drive\n",
        "drive.mount('/content/drive')"
      ],
      "execution_count": 1,
      "outputs": [
        {
          "output_type": "stream",
          "name": "stdout",
          "text": [
            "Mounted at /content/drive\n"
          ]
        }
      ]
    },
    {
      "cell_type": "code",
      "metadata": {
        "id": "lFrY43y1bKtb",
        "colab": {
          "base_uri": "https://localhost:8080/"
        },
        "outputId": "b1ac096d-6db5-4fc6-9d20-cf78fb380922"
      },
      "source": [
        "%cd /content/drive/MyDrive/Folder_for_Face_Recognition/\n",
        "# !ls"
      ],
      "execution_count": 2,
      "outputs": [
        {
          "output_type": "stream",
          "name": "stdout",
          "text": [
            "/content/drive/MyDrive/Folder_for_Face_Recognition\n"
          ]
        }
      ]
    },
    {
      "cell_type": "markdown",
      "metadata": {
        "id": "j6wcRELPTgNr"
      },
      "source": [
        "###Import essential libraries"
      ]
    },
    {
      "cell_type": "code",
      "metadata": {
        "id": "Lae1MIPjZTVG"
      },
      "source": [
        "from PIL import Image\n",
        "import os\n",
        "import re\n",
        "\n",
        "import matplotlib.pyplot as plt\n",
        "import numpy as np\n",
        "\n",
        "import pylab as pl\n",
        "from matplotlib import pyplot as plt\n",
        "from sklearn.model_selection import train_test_split\n",
        "from sklearn.model_selection import GridSearchCV\n",
        "from sklearn.metrics import classification_report\n",
        "from sklearn.decomposition import PCA\n",
        "from sklearn.svm import SVC\n",
        "\n",
        "from skimage.feature import hog"
      ],
      "execution_count": 16,
      "outputs": []
    },
    {
      "cell_type": "markdown",
      "metadata": {
        "id": "41Y6hnDKeWrY"
      },
      "source": [
        "###Obtain image feature & label"
      ]
    },
    {
      "cell_type": "code",
      "metadata": {
        "id": "U9qpdaTuSY90",
        "outputId": "82cae3bc-75b1-48b0-88e9-351208621e36",
        "colab": {
          "base_uri": "https://localhost:8080/"
        }
      },
      "source": [
        "folder='TrainingPhotos/' # location of training images\n",
        "images = []\n",
        "i=0\n",
        "\n",
        "X=[]\n",
        "Y=[]\n",
        "\n",
        "for filename in os.listdir(folder):   # run the loop for all files in training folder\n",
        "    img = Image.open(os.path.join(folder,filename)) # open image\n",
        "\n",
        "    img=img.resize([32,64])  # resize image  to a fixed size\n",
        "\n",
        "    fd, hog_image = hog(img, orientations=9, pixels_per_cell=(4,4), cells_per_block=(2, 2), visualize=True, multichannel=True) # obtain HOG features\n",
        "\n",
        "    X.append(fd)\n",
        "\n",
        "    # obtain training labels from file name\n",
        "\n",
        "    if re.match(\"Amir*\", filename):\n",
        "      Yt=0\n",
        "    elif re.match(\"Jaya*\", filename):\n",
        "      Yt=1\n",
        "    elif re.match(\"Hir*\", filename):\n",
        "      Yt=2\n",
        "    elif re.match(\"Anupam*\", filename):\n",
        "      Yt=3\n",
        "    else:\n",
        "      Yt=4\n",
        "\n",
        "    Y.append(Yt)\n",
        "\n",
        "    i=i+1\n"
      ],
      "execution_count": 17,
      "outputs": [
        {
          "output_type": "stream",
          "name": "stderr",
          "text": [
            "<ipython-input-17-3295e412d61a>:13: FutureWarning: `multichannel` is a deprecated argument name for `hog`. It will be removed in version 1.0. Please use `channel_axis` instead.\n",
            "  fd, hog_image = hog(img, orientations=9, pixels_per_cell=(4,4), cells_per_block=(2, 2), visualize=True, multichannel=True) # obtain HOG features\n"
          ]
        }
      ]
    },
    {
      "cell_type": "code",
      "metadata": {
        "id": "Wc811XNNvzVS",
        "colab": {
          "base_uri": "https://localhost:8080/"
        },
        "outputId": "0db41c61-6f76-4d3e-a5aa-039ebb371b9a"
      },
      "source": [
        "fd.shape"
      ],
      "execution_count": 18,
      "outputs": [
        {
          "output_type": "execute_result",
          "data": {
            "text/plain": [
              "(3780,)"
            ]
          },
          "metadata": {},
          "execution_count": 18
        }
      ]
    },
    {
      "cell_type": "code",
      "metadata": {
        "id": "KJEAEnex8Ujq"
      },
      "source": [
        "target_names=['AamirKhan', 'JayaBadhuri', 'HritikRoshan', 'AnupamKher']"
      ],
      "execution_count": 19,
      "outputs": []
    },
    {
      "cell_type": "markdown",
      "metadata": {
        "id": "c-d0BtjEUd2f"
      },
      "source": [
        "###Split data into training/test"
      ]
    },
    {
      "cell_type": "code",
      "metadata": {
        "id": "QrHiqm9zfqQt"
      },
      "source": [
        "X_train, X_test, y_train, y_test = train_test_split(X, Y, test_size=0.2, random_state=42)"
      ],
      "execution_count": 20,
      "outputs": []
    },
    {
      "cell_type": "markdown",
      "metadata": {
        "id": "sPxydcaEUfTP"
      },
      "source": [
        "###Reduce dimenions with PCA"
      ]
    },
    {
      "cell_type": "code",
      "metadata": {
        "id": "ZCaJ3zvqfzkh"
      },
      "source": [
        "n_components = 25\n",
        "pca = PCA(n_components=n_components, whiten=True).fit(X_train)"
      ],
      "execution_count": 21,
      "outputs": []
    },
    {
      "cell_type": "code",
      "metadata": {
        "id": "JbfpzLnpgFla"
      },
      "source": [
        "# project training and test data to lower dimension\n",
        "X_train_pca = pca.transform(X_train)\n",
        "X_test_pca = pca.transform(X_test)"
      ],
      "execution_count": 22,
      "outputs": []
    },
    {
      "cell_type": "code",
      "metadata": {
        "id": "yNoWGAsGgCBz"
      },
      "source": [
        "# Save PCA coefficients for use at prediction\n",
        "\n",
        "import pickle as pk\n",
        "pk.dump(pca, open(\"PCA.pkl\",\"wb\"))"
      ],
      "execution_count": 23,
      "outputs": []
    },
    {
      "cell_type": "markdown",
      "metadata": {
        "id": "y2lQvqPLUx0J"
      },
      "source": [
        "###Train SVM classifier"
      ]
    },
    {
      "cell_type": "code",
      "metadata": {
        "id": "efbMb_n2gGuj",
        "colab": {
          "base_uri": "https://localhost:8080/"
        },
        "outputId": "17a3feae-f539-4e86-85a1-4af118827af7"
      },
      "source": [
        "print(\"Fitting the classifier to the training set\")\n",
        "param_grid = {\n",
        "         'C': [1e3, 5e3, 1e4, 5e4, 1e5],\n",
        "          'gamma': [0.0001, 0.0005, 0.001, 0.005, 0.01, 0.1],\n",
        "          }\n",
        "clf = GridSearchCV(SVC(kernel='rbf', class_weight='balanced',probability=True), param_grid)\n",
        "clf = clf.fit(X_train_pca, y_train)\n",
        "print(\"Best estimator found by grid search:\")\n",
        "print(clf.best_estimator_)"
      ],
      "execution_count": 24,
      "outputs": [
        {
          "output_type": "stream",
          "name": "stdout",
          "text": [
            "Fitting the classifier to the training set\n",
            "Best estimator found by grid search:\n",
            "SVC(C=1000.0, class_weight='balanced', gamma=0.1, probability=True)\n"
          ]
        }
      ]
    },
    {
      "cell_type": "code",
      "metadata": {
        "id": "xAnJUM3KU1rU",
        "colab": {
          "base_uri": "https://localhost:8080/"
        },
        "outputId": "602a9820-f632-45f8-8ef7-087a4a0dcb74"
      },
      "source": [
        "# Save best SVM classifier weights for use at prediction\n",
        "\n",
        "import joblib\n",
        "joblib.dump(clf.best_estimator_, 'SVM_classifier.pkl', compress = 1) # Only best parameters"
      ],
      "execution_count": 25,
      "outputs": [
        {
          "output_type": "execute_result",
          "data": {
            "text/plain": [
              "['SVM_classifier.pkl']"
            ]
          },
          "metadata": {},
          "execution_count": 25
        }
      ]
    },
    {
      "cell_type": "markdown",
      "metadata": {
        "id": "BWdb-OowU9ES"
      },
      "source": [
        "###Model performance on test set"
      ]
    },
    {
      "cell_type": "code",
      "metadata": {
        "id": "G01OzGsIgMTz",
        "colab": {
          "base_uri": "https://localhost:8080/"
        },
        "outputId": "c824d839-b57b-4ee0-faa4-35cdfb00e39f"
      },
      "source": [
        "y_pred = clf.predict(X_test_pca)\n",
        "y_pred"
      ],
      "execution_count": 26,
      "outputs": [
        {
          "output_type": "execute_result",
          "data": {
            "text/plain": [
              "array([1, 0, 2, 1, 1, 0, 0, 0, 0, 1, 1, 1, 0, 0, 2, 0, 0, 2, 0, 1, 1, 1,\n",
              "       1, 1, 2, 0, 3, 0, 2, 0, 0, 1, 0, 1, 0, 0, 3, 0, 0, 1, 0, 1, 0, 0,\n",
              "       0, 1, 0, 0, 0, 1, 0, 2, 0, 0, 2, 3, 1, 0, 1, 1, 2, 1, 0, 1, 0, 2,\n",
              "       0, 3, 0, 1, 1, 2, 1, 0, 2, 0, 2, 3, 0, 0, 0, 1, 2, 0, 1, 1, 2, 0,\n",
              "       1, 1, 0, 0, 2, 0, 2, 1, 2, 2, 0, 1, 1, 0, 0, 0, 0, 0, 1])"
            ]
          },
          "metadata": {},
          "execution_count": 26
        }
      ]
    },
    {
      "cell_type": "code",
      "metadata": {
        "id": "fwxGtv8xgT8f",
        "colab": {
          "base_uri": "https://localhost:8080/"
        },
        "outputId": "1eb308c5-880d-451a-b8a9-ec7f84eb5d45"
      },
      "source": [
        "print(classification_report(y_test, y_pred))"
      ],
      "execution_count": 27,
      "outputs": [
        {
          "output_type": "stream",
          "name": "stdout",
          "text": [
            "              precision    recall  f1-score   support\n",
            "\n",
            "           0       0.64      0.86      0.74        37\n",
            "           1       0.76      0.84      0.80        31\n",
            "           2       0.83      0.45      0.59        33\n",
            "           3       0.80      0.67      0.73         6\n",
            "\n",
            "    accuracy                           0.72       107\n",
            "   macro avg       0.76      0.71      0.71       107\n",
            "weighted avg       0.74      0.72      0.71       107\n",
            "\n"
          ]
        }
      ]
    },
    {
      "cell_type": "code",
      "source": [],
      "metadata": {
        "id": "jQWuNC3fTCHU"
      },
      "execution_count": 27,
      "outputs": []
    }
  ]
}