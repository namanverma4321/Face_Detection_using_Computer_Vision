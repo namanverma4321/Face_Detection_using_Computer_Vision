{
  "nbformat": 4,
  "nbformat_minor": 0,
  "metadata": {
    "colab": {
      "provenance": [],
      "collapsed_sections": [
        "GJikBoAASbdi",
        "j6wcRELPTgNr",
        "41Y6hnDKeWrY",
        "c-d0BtjEUd2f",
        "sPxydcaEUfTP"
      ],
      "gpuType": "T4",
      "include_colab_link": true
    },
    "kernelspec": {
      "name": "python3",
      "display_name": "Python 3"
    },
    "language_info": {
      "name": "python"
    },
    "accelerator": "GPU"
  },
  "cells": [
    {
      "cell_type": "markdown",
      "metadata": {
        "id": "view-in-github",
        "colab_type": "text"
      },
      "source": [
        "<a href=\"https://colab.research.google.com/github/namanverma4321/Face_Detection_using_Computer_Vision/blob/main/Model.ipynb\" target=\"_parent\"><img src=\"https://colab.research.google.com/assets/colab-badge.svg\" alt=\"Open In Colab\"/></a>"
      ]
    },
    {
      "cell_type": "code",
      "metadata": {
        "colab": {
          "base_uri": "https://localhost:8080/"
        },
        "id": "iS8o4Z_Ri0sJ",
        "outputId": "428d41e8-c7f5-4d06-e1a6-c64978f57ea5"
      },
      "source": [
        "from google.colab import drive\n",
        "drive.mount('/content/drive')"
      ],
      "execution_count": 1,
      "outputs": [
        {
          "output_type": "stream",
          "name": "stdout",
          "text": [
            "Mounted at /content/drive\n"
          ]
        }
      ]
    },
    {
      "cell_type": "code",
      "metadata": {
        "id": "lFrY43y1bKtb",
        "colab": {
          "base_uri": "https://localhost:8080/"
        },
        "outputId": "1725e9f3-39c4-4f4b-af97-06b79cc6ecea"
      },
      "source": [
        "%cd /content/drive/MyDrive/Folder_for_Face_Recognition/\n",
        "# !ls"
      ],
      "execution_count": 2,
      "outputs": [
        {
          "output_type": "stream",
          "name": "stdout",
          "text": [
            "/content/drive/MyDrive/Folder_for_Face_Recognition\n"
          ]
        }
      ]
    },
    {
      "cell_type": "markdown",
      "metadata": {
        "id": "j6wcRELPTgNr"
      },
      "source": [
        "###Import essential libraries"
      ]
    },
    {
      "cell_type": "code",
      "metadata": {
        "id": "Lae1MIPjZTVG"
      },
      "source": [
        "from PIL import Image\n",
        "import os\n",
        "import re\n",
        "import cv2\n",
        "import matplotlib.pyplot as plt\n",
        "import numpy as np\n",
        "\n",
        "import pylab as pl\n",
        "from matplotlib import pyplot as plt\n",
        "from sklearn.model_selection import train_test_split\n",
        "from sklearn.model_selection import GridSearchCV\n",
        "from sklearn.metrics import classification_report\n",
        "from sklearn.decomposition import PCA\n",
        "from sklearn.svm import SVC\n",
        "\n",
        "from skimage.feature import hog"
      ],
      "execution_count": 3,
      "outputs": []
    },
    {
      "cell_type": "markdown",
      "metadata": {
        "id": "41Y6hnDKeWrY"
      },
      "source": [
        "###Obtain image feature & label"
      ]
    },
    {
      "cell_type": "code",
      "metadata": {
        "id": "U9qpdaTuSY90",
        "outputId": "62ea95d8-eda9-4127-f3e9-052a05df50f3",
        "colab": {
          "base_uri": "https://localhost:8080/"
        }
      },
      "source": [
        "# Data augmentation parameters\n",
        "rotation_angles = [30, -30]  # Apply rotations of 30 degrees clockwise and counterclockwise\n",
        "flip_horizontal = True       # Flip horizontally\n",
        "brightness_factor = 0.2      # Change brightness by a factor of 0.2\n",
        "\n",
        "def apply_data_augmentation(img):\n",
        "    augmented_images = [img]\n",
        "\n",
        "    if flip_horizontal:\n",
        "        # Augmentation 1: Horizontal Flip\n",
        "        flipped_img = cv2.flip(img, 1)  # Flip horizontally\n",
        "        augmented_images.append(flipped_img)\n",
        "\n",
        "    for angle in rotation_angles:\n",
        "        # Augmentation 2: Rotation\n",
        "        rotated_img = cv2.rotate(img, cv2.ROTATE_90_CLOCKWISE)  # Rotate 30 degrees clockwise\n",
        "        augmented_images.append(rotated_img)\n",
        "\n",
        "    # Augmentation 3: Brightness adjustment\n",
        "    hsv = cv2.cvtColor(img, cv2.COLOR_RGB2HSV)\n",
        "    h, s, v = cv2.split(hsv)\n",
        "    v = v.astype(float)\n",
        "    v *= (1.0 + brightness_factor)  # Increase brightness\n",
        "    v = np.clip(v, 0, 255)\n",
        "    v = v.astype(np.uint8)\n",
        "    hsv = cv2.merge((h, s, v))\n",
        "    img_brightened = cv2.cvtColor(hsv, cv2.COLOR_HSV2RGB)\n",
        "    augmented_images.append(img_brightened)\n",
        "\n",
        "    return augmented_images\n",
        "\n",
        "folder = 'TrainingPhotos/'  # location of training images\n",
        "X = []\n",
        "Y = []\n",
        "\n",
        "for filename in os.listdir(folder):\n",
        "    img = Image.open(os.path.join(folder, filename))  # open image\n",
        "    img = img.resize([32, 64])  # resize image to a fixed size\n",
        "\n",
        "    # Apply data augmentation\n",
        "    augmented_images = apply_data_augmentation(np.array(img))\n",
        "\n",
        "    for augmented_img in augmented_images:\n",
        "        fd, hog_image = hog(augmented_img, orientations=9, pixels_per_cell=(4, 4), cells_per_block=(2, 2), visualize=True, multichannel=True)  # obtain HOG features\n",
        "        X.append(fd)\n",
        "\n",
        "        # Obtain training labels from file name\n",
        "        if re.match(\"Amir*\", filename):\n",
        "            Yt = 0\n",
        "        elif re.match(\"Jaya*\", filename):\n",
        "            Yt = 1\n",
        "        elif re.match(\"Hir*\", filename):\n",
        "            Yt = 2\n",
        "        elif re.match(\"Anupam*\", filename):\n",
        "            Yt = 3\n",
        "        else:\n",
        "            Yt = 4\n",
        "        Y.append(Yt)"
      ],
      "execution_count": 4,
      "outputs": [
        {
          "output_type": "stream",
          "name": "stderr",
          "text": [
            "<ipython-input-4-101579a302e3>:44: FutureWarning: `multichannel` is a deprecated argument name for `hog`. It will be removed in version 1.0. Please use `channel_axis` instead.\n",
            "  fd, hog_image = hog(augmented_img, orientations=9, pixels_per_cell=(4, 4), cells_per_block=(2, 2), visualize=True, multichannel=True)  # obtain HOG features\n"
          ]
        }
      ]
    },
    {
      "cell_type": "code",
      "metadata": {
        "id": "Wc811XNNvzVS",
        "colab": {
          "base_uri": "https://localhost:8080/"
        },
        "outputId": "ce8ca292-d705-4fb2-b765-267ca49ab1f9"
      },
      "source": [
        "fd.shape"
      ],
      "execution_count": 5,
      "outputs": [
        {
          "output_type": "execute_result",
          "data": {
            "text/plain": [
              "(3780,)"
            ]
          },
          "metadata": {},
          "execution_count": 5
        }
      ]
    },
    {
      "cell_type": "code",
      "metadata": {
        "id": "KJEAEnex8Ujq"
      },
      "source": [
        "target_names=['AamirKhan', 'JayaBadhuri', 'HritikRoshan', 'AnupamKher']"
      ],
      "execution_count": 6,
      "outputs": []
    },
    {
      "cell_type": "markdown",
      "metadata": {
        "id": "c-d0BtjEUd2f"
      },
      "source": [
        "###Split data into training/test"
      ]
    },
    {
      "cell_type": "code",
      "metadata": {
        "id": "QrHiqm9zfqQt"
      },
      "source": [
        "X_train, X_test, y_train, y_test = train_test_split(X, Y, test_size=0.2, random_state=42)"
      ],
      "execution_count": 7,
      "outputs": []
    },
    {
      "cell_type": "markdown",
      "metadata": {
        "id": "sPxydcaEUfTP"
      },
      "source": [
        "###Reduce dimenions with PCA"
      ]
    },
    {
      "cell_type": "code",
      "metadata": {
        "id": "ZCaJ3zvqfzkh"
      },
      "source": [
        "n_components = 25\n",
        "pca = PCA(n_components=n_components, whiten=True).fit(X_train)"
      ],
      "execution_count": 8,
      "outputs": []
    },
    {
      "cell_type": "code",
      "metadata": {
        "id": "JbfpzLnpgFla"
      },
      "source": [
        "# project training and test data to lower dimension\n",
        "X_train_pca = pca.transform(X_train)\n",
        "X_test_pca = pca.transform(X_test)"
      ],
      "execution_count": 9,
      "outputs": []
    },
    {
      "cell_type": "code",
      "metadata": {
        "id": "yNoWGAsGgCBz"
      },
      "source": [
        "# Save PCA coefficients for use at prediction\n",
        "\n",
        "import pickle as pk\n",
        "pk.dump(pca, open(\"PCA.pkl\",\"wb\"))"
      ],
      "execution_count": 10,
      "outputs": []
    },
    {
      "cell_type": "markdown",
      "metadata": {
        "id": "y2lQvqPLUx0J"
      },
      "source": [
        "###Train SVM classifier"
      ]
    },
    {
      "cell_type": "code",
      "metadata": {
        "id": "efbMb_n2gGuj",
        "colab": {
          "base_uri": "https://localhost:8080/"
        },
        "outputId": "71d2af1f-3fd7-437e-ff42-fe17de10c530"
      },
      "source": [
        "print(\"Fitting the classifier to the training set\")\n",
        "param_grid = {\n",
        "         'C': [1e3, 5e3, 1e4, 5e4, 1e5],\n",
        "          'gamma': [0.0001, 0.0005, 0.001, 0.005, 0.01, 0.1],\n",
        "          }\n",
        "clf = GridSearchCV(SVC(kernel='rbf', class_weight='balanced',probability=True), param_grid)\n",
        "clf = clf.fit(X_train_pca, y_train)\n",
        "print(\"Best estimator found by grid search:\")\n",
        "print(clf.best_estimator_)"
      ],
      "execution_count": 11,
      "outputs": [
        {
          "output_type": "stream",
          "name": "stdout",
          "text": [
            "Fitting the classifier to the training set\n",
            "Best estimator found by grid search:\n",
            "SVC(C=1000.0, class_weight='balanced', gamma=0.1, probability=True)\n"
          ]
        }
      ]
    },
    {
      "cell_type": "code",
      "metadata": {
        "id": "xAnJUM3KU1rU",
        "colab": {
          "base_uri": "https://localhost:8080/"
        },
        "outputId": "eb5cb0e9-206c-4178-fdd3-40b2b0475b13"
      },
      "source": [
        "# Save best SVM classifier weights for use at prediction\n",
        "\n",
        "import joblib\n",
        "joblib.dump(clf.best_estimator_, 'SVM_classifier.pkl', compress = 1) # Only best parameters"
      ],
      "execution_count": 12,
      "outputs": [
        {
          "output_type": "execute_result",
          "data": {
            "text/plain": [
              "['SVM_classifier.pkl']"
            ]
          },
          "metadata": {},
          "execution_count": 12
        }
      ]
    },
    {
      "cell_type": "markdown",
      "metadata": {
        "id": "BWdb-OowU9ES"
      },
      "source": [
        "###Model performance on test set"
      ]
    },
    {
      "cell_type": "code",
      "metadata": {
        "id": "G01OzGsIgMTz",
        "colab": {
          "base_uri": "https://localhost:8080/"
        },
        "outputId": "5c7a0335-1d69-447c-e303-af48af33a72d"
      },
      "source": [
        "y_pred = clf.predict(X_test_pca)\n",
        "y_pred"
      ],
      "execution_count": 13,
      "outputs": [
        {
          "output_type": "execute_result",
          "data": {
            "text/plain": [
              "array([1, 1, 3, 2, 1, 1, 2, 1, 1, 1, 2, 2, 1, 0, 1, 1, 1, 0, 2, 0, 2, 0,\n",
              "       2, 0, 0, 2, 1, 0, 0, 0, 2, 0, 2, 1, 1, 1, 0, 1, 0, 1, 0, 1, 1, 2,\n",
              "       2, 0, 1, 0, 1, 2, 0, 3, 0, 1, 1, 1, 0, 1, 0, 0, 0, 1, 1, 0, 1, 1,\n",
              "       1, 2, 1, 2, 3, 0, 2, 2, 0, 1, 0, 0, 0, 0, 2, 2, 3, 0, 2, 0, 2, 1,\n",
              "       1, 0, 0, 0, 0, 0, 1, 1, 3, 0, 2, 1, 0, 1, 3, 0, 2, 2, 1, 0, 2, 0,\n",
              "       1, 0, 0, 1, 0, 0, 0, 2, 0, 0, 0, 2, 0, 0, 2, 1, 2, 1, 2, 2, 2, 3,\n",
              "       1, 0, 1, 0, 1, 3, 3, 1, 2, 2, 0, 3, 0, 3, 1, 2, 0, 0, 0, 0, 1, 0,\n",
              "       0, 0, 2, 1, 2, 0, 0, 3, 3, 0, 0, 1, 1, 0, 0, 1, 1, 0, 0, 1, 2, 0,\n",
              "       2, 1, 1, 2, 3, 0, 0, 0, 2, 2, 0, 1, 3, 0, 1, 3, 2, 0, 2, 1, 0, 0,\n",
              "       2, 1, 1, 0, 1, 0, 0, 1, 1, 0, 2, 0, 0, 3, 1, 3, 1, 2, 0, 0, 0, 0,\n",
              "       0, 0, 2, 2, 0, 0, 3, 0, 3, 1, 2, 2, 0, 0, 2, 1, 1, 1, 3, 0, 0, 0,\n",
              "       2, 0, 2, 0, 0, 0, 0, 1, 0, 0, 1, 0, 0, 0, 3, 0, 2, 0, 2, 0, 0, 2,\n",
              "       1, 0, 1, 1, 0, 1, 2, 1, 0, 0, 0, 1, 1, 2, 0, 2, 0, 1, 0, 0, 2, 1,\n",
              "       0, 0, 1, 0, 1, 2, 1, 1, 0, 0, 0, 0, 1, 0, 0, 2, 0, 1, 0, 0, 0, 1,\n",
              "       1, 0, 1, 0, 0, 2, 2, 0, 1, 2, 2, 3, 0, 2, 1, 0, 0, 1, 0, 0, 2, 1,\n",
              "       0, 2, 1, 0, 0, 1, 2, 2, 0, 0, 2, 0, 1, 1, 1, 0, 0, 2, 0, 3, 0, 0,\n",
              "       0, 0, 1, 1, 1, 0, 1, 1, 2, 1, 1, 0, 1, 3, 0, 3, 0, 1, 0, 2, 1, 1,\n",
              "       2, 2, 3, 3, 2, 0, 0, 1, 2, 1, 2, 3, 2, 2, 1, 1, 1, 0, 1, 2, 0, 3,\n",
              "       1, 0, 0, 1, 0, 3, 3, 0, 0, 2, 0, 3, 0, 2, 0, 2, 1, 2, 0, 1, 0, 0,\n",
              "       1, 2, 0, 0, 0, 2, 0, 1, 0, 1, 3, 1, 1, 2, 0, 1, 2, 0, 1, 0, 3, 1,\n",
              "       1, 0, 1, 1, 1, 0, 1, 3, 1, 0, 1, 2, 0, 1, 0, 2, 2, 2, 0, 1, 0, 0,\n",
              "       2, 2, 1, 1, 2, 0, 0, 0, 1, 2, 2, 0, 0, 0, 2, 1, 1, 2, 1, 1, 0, 0,\n",
              "       1, 0, 0, 1, 0, 0, 2, 1, 1, 1, 1, 2, 0, 3, 0, 2, 1, 0, 2, 0, 0, 1,\n",
              "       0, 3, 2, 0, 1, 0, 1, 2, 0, 0, 2, 1, 0, 0, 1, 2, 2, 0, 0, 0, 1, 0,\n",
              "       0, 1, 0])"
            ]
          },
          "metadata": {},
          "execution_count": 13
        }
      ]
    },
    {
      "cell_type": "code",
      "metadata": {
        "id": "fwxGtv8xgT8f",
        "colab": {
          "base_uri": "https://localhost:8080/"
        },
        "outputId": "9cc71902-934a-429d-e824-15b132cd90c6"
      },
      "source": [
        "print(classification_report(y_test, y_pred))"
      ],
      "execution_count": 14,
      "outputs": [
        {
          "output_type": "stream",
          "name": "stdout",
          "text": [
            "              precision    recall  f1-score   support\n",
            "\n",
            "           0       0.87      0.97      0.92       198\n",
            "           1       0.99      0.98      0.98       161\n",
            "           2       0.94      0.83      0.88       127\n",
            "           3       0.95      0.80      0.87        45\n",
            "\n",
            "    accuracy                           0.92       531\n",
            "   macro avg       0.94      0.89      0.91       531\n",
            "weighted avg       0.93      0.92      0.92       531\n",
            "\n"
          ]
        }
      ]
    },
    {
      "cell_type": "code",
      "source": [],
      "metadata": {
        "id": "jQWuNC3fTCHU"
      },
      "execution_count": 14,
      "outputs": []
    }
  ]
}